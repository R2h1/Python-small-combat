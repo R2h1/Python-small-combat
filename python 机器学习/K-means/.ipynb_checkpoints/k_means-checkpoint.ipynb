{
 "cells": [
  {
   "cell_type": "code",
   "execution_count": 1,
   "metadata": {},
   "outputs": [],
   "source": [
    "import numpy as np"
   ]
  },
  {
   "cell_type": "code",
   "execution_count": 3,
   "metadata": {},
   "outputs": [
    {
     "name": "stdout",
     "output_type": "stream",
     "text": [
      "8.0\n"
     ]
    }
   ],
   "source": [
    "'''\n",
    "  params:\n",
    "     vecA: 样本A向量\n",
    "     VecB：样本B向量\n",
    "  return:\n",
    "     两样本的欧氏距离\n",
    "'''\n",
    "def distEucDistance(vecA, vecB):\n",
    "    return np.sqrt(np.sum(np.power(vecA - vecB, 2)))"
   ]
  },
  {
   "cell_type": "code",
   "execution_count": 32,
   "metadata": {},
   "outputs": [],
   "source": [
    "'''\n",
    "   随机初始化k个聚类中心\n",
    "   params:\n",
    "       dataSet \n",
    "       k\n",
    "   return:\n",
    "       k个随机聚类中心\n",
    "'''\n",
    "def randKCent(dataSet, k): \n",
    "    n = dataSet.shape[1]\n",
    "    centrNodes = np.zeros([k, n]) #创建 k 行 n列的全为0 的矩阵\n",
    "    for colm in range(n):\n",
    "        minColm = np.min(dataSet[:,colm]) #获得第 colm 列的最小值\n",
    "        rangeColm = float(np.max(dataSet[:,colm]) - minColm)     #得到最大值与最小值之间的范围\n",
    "        centrNodes[:,colm] = minColm + rangeColm * np.random.rand(k)\n",
    "    return centrNodes"
   ]
  },
  {
   "cell_type": "code",
   "execution_count": null,
   "metadata": {},
   "outputs": [],
   "source": [
    "#disMeans 距离， 默认使用欧式距离， createCent 初始中心点的选取\n",
    "def KMeans(dataSet, k, distFunc= distEclud, createCent= randCent):\n",
    "    sampleNum = dataSet.shape[0]\n",
    "    clusterAssement = np.zeros([sampleNum,2])   #存放每个样本所属中心点和距离中心点的距离\n",
    "    centrNodes = createCent(dataSet, k)      #初始化 k 个中心点\n",
    "    clusterChanged = True\n",
    "    while clusterChanged:\n",
    "        clusterChanged = False\n",
    "        #遍历每个样本\n",
    "        for i in range(sampleNum):\n",
    "            minDist,minIndex = np.inf,-1   #初始设置值为无穷大\n",
    "            for j in range(k):\n",
    "                # 计算 每个样本到 k个中心点的距离，\n",
    "                distJ = distFunc(centrNodes[j,:], dataSet[i,:])\n",
    "                if distJ <  minDist:\n",
    "                    minDist = distJ #更新最小的距离\n",
    "                    minIndex = j    #归为j类\n",
    "            if clusterAssement[i,0] != minIndex:    #如果中心点不变化的时候，则终止循环\n",
    "                clusterChanged = True   #这个样本所属的分类没变\n",
    "            clusterAssement[i,:] = minIndex, minDist**2\n",
    "        #更换中心点的位置\n",
    "        for class_i in range(k):\n",
    "            #属于class_i的样本\n",
    "            ptsInClust = dataSet[np.nonzero(clusterAssement[:,0] == class_i )[0]] #分别找到属于k类的数据\n",
    "            centrNodes[class_i,:] = np.mean(ptsInClust, axis = 0)   #得到更新后的中心点\n",
    "    return centrNodes, clusterAssement"
   ]
  },
  {
   "cell_type": "code",
   "execution_count": 48,
   "metadata": {},
   "outputs": [
    {
     "name": "stdout",
     "output_type": "stream",
     "text": [
      "[[1 0]\n",
      " [0 2]\n",
      " [0 0]]\n",
      "(array([0, 1], dtype=int64), array([0, 1], dtype=int64))\n"
     ]
    }
   ],
   "source": []
  },
  {
   "cell_type": "code",
   "execution_count": null,
   "metadata": {},
   "outputs": [],
   "source": []
  }
 ],
 "metadata": {
  "kernelspec": {
   "display_name": "Python 3",
   "language": "python",
   "name": "python3"
  },
  "language_info": {
   "codemirror_mode": {
    "name": "ipython",
    "version": 3
   },
   "file_extension": ".py",
   "mimetype": "text/x-python",
   "name": "python",
   "nbconvert_exporter": "python",
   "pygments_lexer": "ipython3",
   "version": "3.7.3"
  }
 },
 "nbformat": 4,
 "nbformat_minor": 2
}
