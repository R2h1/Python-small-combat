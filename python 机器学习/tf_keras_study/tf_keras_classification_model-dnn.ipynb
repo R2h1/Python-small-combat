{
 "cells": [
  {
   "cell_type": "code",
   "execution_count": 2,
   "metadata": {},
   "outputs": [],
   "source": [
    "import os\n",
    "import sys\n",
    "import time\n",
    "import numpy as np\n",
    "import pandas as pd\n",
    "import sklearn\n",
    "import matplotlib as mpl\n",
    "import matplotlib.pyplot as plt\n",
    "%matplotlib inline\n",
    "\n",
    "import tensorflow as tf"
   ]
  },
  {
   "cell_type": "code",
   "execution_count": 3,
   "metadata": {},
   "outputs": [],
   "source": [
    "(x_train_all,y_train_all),(x_test,y_test) = tf.keras.datasets.fashion_mnist.load_data()\n",
    "#(x_valid,y_valid)验证集，训练集（x_train,y_train）\n",
    "x_valid, x_train = x_train_all[:5000], x_train_all[5000:]\n",
    "y_valid, y_train = y_train_all[:5000], y_train_all[5000:]\n",
    "# print(x_valid.shape,y_valid.shape)\n",
    "# print(x_train.shape,y_train.shape)\n",
    "# print(x_test.shape,y_test.shape)\n",
    "# print(np.max(x_train),np.min(x_valid))"
   ]
  },
  {
   "cell_type": "code",
   "execution_count": 4,
   "metadata": {},
   "outputs": [
    {
     "name": "stdout",
     "output_type": "stream",
     "text": [
      "(55000, 28, 28) (5000, 28, 28)\n"
     ]
    }
   ],
   "source": [
    "#归一化\n",
    "from sklearn.preprocessing import StandardScaler\n",
    "\n",
    "scaler = StandardScaler()\n",
    "#sklearn 接受二维数组\n",
    "#用于改变数组的形状，reshape(-1,1) -1表示任意行（原来是多少就是多少）\n",
    "x_train_scaled = scaler.fit_transform(x_train.astype(np.float32).reshape(-1,1)).reshape(-1,28,28)\n",
    "x_valid_scaled = scaler.transform(x_valid.astype(np.float32).reshape(-1,1)).reshape(-1,28,28)\n",
    "x_test_scaled = scaler.transform(x_test.astype(np.float32).reshape(-1,1)).reshape(-1,28,28)\n",
    "print(x_train_scaled.shape,x_valid.shape)"
   ]
  },
  {
   "cell_type": "code",
   "execution_count": 5,
   "metadata": {},
   "outputs": [
    {
     "name": "stdout",
     "output_type": "stream",
     "text": [
      "2.0231433 -0.8105136\n"
     ]
    }
   ],
   "source": [
    "print(np.max(x_train_scaled),np.min(x_valid_scaled))"
   ]
  },
  {
   "cell_type": "code",
   "execution_count": 6,
   "metadata": {},
   "outputs": [
    {
     "data": {
      "image/png": "[encoded data removed]",
      "text/plain": [
       "<Figure size 432x288 with 1 Axes>"
      ]
     },
     "metadata": {
      "needs_background": "light"
     },
     "output_type": "display_data"
    }
   ],
   "source": [
    "def show_single_image(img_arr):\n",
    "    plt.imshow(img_arr,cmap=\"binary\")\n",
    "    plt.show()\n",
    "show_single_image(x_train[0])\n",
    "def show_imgs(n_rows,n_cols,x_data,y_data,class_names):\n",
    "    assert len(x_data) == len(y_data) #断言 ，表达式为False发生异常\n",
    "    assert n_rows*n_cols < len(x_data)\n",
    "    plt.figure(figsize = (n_cols*2,n_rows*2))#设置画布的宽高\n",
    "    for row in range(n_rows):\n",
    "        for col in range(n_cols):\n",
    "            index = n_cols * row + col\n",
    "            plt.subplot(n_rows,n_cols,index+1)\n",
    "            plt.imshow(x_data[index],cmap=\"binary\",interpolation=\"nearest\") #interpolation图像插值，nearest放大小图像效果好\n",
    "            plt.axis(\"off\")\n",
    "            plt.title(class_names[y_data[index]])\n",
    "    plt.show()\n",
    "class_names = [\"T-shirt\",\"Trouser\",\"pullover\",\"Dress\",\"Coat\",\"Sandal\",\"shirt\",\"Sneaker\",\"Bag\",\"Ankle boot\"]\n",
    "# show_imgs(3,5,x_train,y_train,class_names)"
   ]
  },
  {
   "cell_type": "code",
   "execution_count": 7,
   "metadata": {},
   "outputs": [],
   "source": [
    "model = tf.keras.models.Sequential()\n",
    "model.add(tf.keras.layers.Flatten(input_shape=[28,28]))\n",
    "#一般只给最后几层添加Dropout就可以了，Dropout功能是防止过拟合\n",
    "for _ in range(20):\n",
    "#     model.add(tf.keras.layers.Dense(100,activation=\"relu\"))\n",
    "    model.add(tf.keras.layers.Dense(100,activation=\"selu\")) #selu\n",
    "#以最后一层添加Dropout为例\n",
    "model.add(tf.keras.layers.AlphaDropout(rate=0.5)) #相比普通的Dropout(rate=0.5) AlphaDropout具有1.均值和方差不变，2.归一化性质不变\n",
    "#     model.add(tf.keras.layers.BatchNormalization())\n",
    "\n",
    "model.add(tf.keras.layers.Dense(10,activation=\"softmax\"))\n",
    "\n",
    "#relu: y = max(0,x) \n",
    "#sortmax: x = [x1,x2,...,xn] , #y = [e^x1/sum,e^x2/sum,...,e^xn/sum] ,sum = e^x1+e^x2+...+e^xn\n",
    "model.compile(optimizer='Adam',loss='sparse_categorical_crossentropy',metrics=[\"accuracy\"])"
   ]
  },
  {
   "cell_type": "code",
   "execution_count": 8,
   "metadata": {},
   "outputs": [
    {
     "name": "stdout",
     "output_type": "stream",
     "text": [
      "Model: \"sequential\"\n",
      "_________________________________________________________________\n",
      "Layer (type)                 Output Shape              Param #   \n",
      "=================================================================\n",
      "flatten (Flatten)            (None, 784)               0         \n",
      "_________________________________________________________________\n",
      "dense (Dense)                (None, 100)               78500     \n",
      "_________________________________________________________________\n",
      "dense_1 (Dense)              (None, 100)               10100     \n",
      "_________________________________________________________________\n",
      "dense_2 (Dense)              (None, 100)               10100     \n",
      "_________________________________________________________________\n",
      "dense_3 (Dense)              (None, 100)               10100     \n",
      "_________________________________________________________________\n",
      "dense_4 (Dense)              (None, 100)               10100     \n",
      "_________________________________________________________________\n",
      "dense_5 (Dense)              (None, 100)               10100     \n",
      "_________________________________________________________________\n",
      "dense_6 (Dense)              (None, 100)               10100     \n",
      "_________________________________________________________________\n",
      "dense_7 (Dense)              (None, 100)               10100     \n",
      "_________________________________________________________________\n",
      "dense_8 (Dense)              (None, 100)               10100     \n",
      "_________________________________________________________________\n",
      "dense_9 (Dense)              (None, 100)               10100     \n",
      "_________________________________________________________________\n",
      "dense_10 (Dense)             (None, 100)               10100     \n",
      "_________________________________________________________________\n",
      "dense_11 (Dense)             (None, 100)               10100     \n",
      "_________________________________________________________________\n",
      "dense_12 (Dense)             (None, 100)               10100     \n",
      "_________________________________________________________________\n",
      "dense_13 (Dense)             (None, 100)               10100     \n",
      "_________________________________________________________________\n",
      "dense_14 (Dense)             (None, 100)               10100     \n",
      "_________________________________________________________________\n",
      "dense_15 (Dense)             (None, 100)               10100     \n",
      "_________________________________________________________________\n",
      "dense_16 (Dense)             (None, 100)               10100     \n",
      "_________________________________________________________________\n",
      "dense_17 (Dense)             (None, 100)               10100     \n",
      "_________________________________________________________________\n",
      "dense_18 (Dense)             (None, 100)               10100     \n",
      "_________________________________________________________________\n",
      "dense_19 (Dense)             (None, 100)               10100     \n",
      "_________________________________________________________________\n",
      "alpha_dropout (AlphaDropout) (None, 100)               0         \n",
      "_________________________________________________________________\n",
      "dense_20 (Dense)             (None, 10)                1010      \n",
      "=================================================================\n",
      "Total params: 271,410\n",
      "Trainable params: 271,410\n",
      "Non-trainable params: 0\n",
      "_________________________________________________________________\n",
      "(55000, 28, 28) (55000,)\n"
     ]
    }
   ],
   "source": [
    "model.summary()\n",
    "print(x_train.shape,y_train.shape)"
   ]
  },
  {
   "cell_type": "code",
   "execution_count": 9,
   "metadata": {},
   "outputs": [],
   "source": [
    "#Tensorboard, earlystopping,ModelCheckpoint\n",
    "logdir = \"./dnn-callbacks\"\n",
    "if not os.path.exists(logdir):\n",
    "    os.mkdir(logdir)\n",
    "output_model_file = os.path.join(logdir,\"fashion_mnist_model.h5\")\n",
    "callbacks = [\n",
    "    tf.keras.callbacks.TensorBoard(logdir),\n",
    "    tf.keras.callbacks.ModelCheckpoint(output_model_file,save_best_only = True),\n",
    "    #被监测量改变小于min_delta或者patience次没有得到改进\n",
    "    tf.keras.callbacks.EarlyStopping(patience= 5,min_delta = 1e-3),\n",
    "    \n",
    "]"
   ]
  },
  {
   "cell_type": "code",
   "execution_count": 9,
   "metadata": {},
   "outputs": [
    {
     "name": "stdout",
     "output_type": "stream",
     "text": [
      "Train on 55000 samples, validate on 5000 samples\n",
      "Epoch 1/10\n",
      "55000/55000 [==============================] - 19s 354us/sample - loss: 0.8278 - accuracy: 0.7144 - val_loss: 0.8301 - val_accuracy: 0.7976\n",
      "Epoch 2/10\n",
      "55000/55000 [==============================] - 21s 390us/sample - loss: 0.7127 - accuracy: 0.7646 - val_loss: 0.8145 - val_accuracy: 0.7978\n",
      "Epoch 3/10\n",
      "55000/55000 [==============================] - 21s 374us/sample - loss: 0.6328 - accuracy: 0.7897 - val_loss: 0.8028 - val_accuracy: 0.8162\n",
      "Epoch 4/10\n",
      "55000/55000 [==============================] - 20s 366us/sample - loss: 0.6304 - accuracy: 0.7897 - val_loss: 0.7067 - val_accuracy: 0.8318\n",
      "Epoch 5/10\n",
      "55000/55000 [==============================] - 20s 371us/sample - loss: 0.6371 - accuracy: 0.7835 - val_loss: 0.8491 - val_accuracy: 0.7318\n",
      "Epoch 6/10\n",
      "55000/55000 [==============================] - 21s 376us/sample - loss: 0.5941 - accuracy: 0.7963 - val_loss: 0.7744 - val_accuracy: 0.8256\n",
      "Epoch 7/10\n",
      "55000/55000 [==============================] - 21s 378us/sample - loss: 0.5355 - accuracy: 0.8274 - val_loss: 0.7370 - val_accuracy: 0.8384\n",
      "Epoch 8/10\n",
      "55000/55000 [==============================] - 23s 410us/sample - loss: 0.5637 - accuracy: 0.8150 - val_loss: 0.6686 - val_accuracy: 0.7926\n",
      "Epoch 9/10\n",
      "55000/55000 [==============================] - 24s 434us/sample - loss: 0.5295 - accuracy: 0.8252 - val_loss: 0.6667 - val_accuracy: 0.8558\n",
      "Epoch 10/10\n",
      "55000/55000 [==============================] - 29s 525us/sample - loss: 0.5004 - accuracy: 0.8379 - val_loss: 0.6712 - val_accuracy: 0.8488\n"
     ]
    }
   ],
   "source": [
    "# 输入长度784的向量 -> 经过第一个300个神经元的全连接层 w1 = [784,300]，b1 = [300,] 通过relu得到一个长度为300的输出向量\n",
    "#->经过第二个100个神经元的全连接层 w2 = [300,100],b2 = [100,] 通过relu得到 一个长度为100的输出向量\n",
    "#->经过第三个10个神经元的全连接层 w2 = [100,10], b3 = [10,] 通过softmax得到 一个长度为10的输出向量\n",
    "history = model.fit(x_train_scaled,y_train,epochs=10,validation_data = (x_valid_scaled,y_valid))"
   ]
  },
  {
   "cell_type": "code",
   "execution_count": 11,
   "metadata": {},
   "outputs": [
    {
     "data": {
      "image/png": "[encoded data removed]",
      "text/plain": [
       "<Figure size 576x360 with 1 Axes>"
      ]
     },
     "metadata": {
      "needs_background": "light"
     },
     "output_type": "display_data"
    }
   ],
   "source": [
    "def plot_learning_curves(history,img_title):\n",
    "    pd.DataFrame(history.history).plot(figsize = (8,5))\n",
    "    plt.grid(True)\n",
    "    plt.gca().set_ylim(0,2)\n",
    "    from matplotlib.font_manager import FontProperties\n",
    "    font_set= FontProperties(fname=r\"c:\\windows\\fonts\\simsun.ttc\",size=12)\n",
    "    plt.title(img_title,fontProperties = font_set)\n",
    "    plt.show()\n",
    "#未归一化前的深度神经网路学习曲线起初平缓\n",
    "#1. 参数众多导致，训练不充分\n",
    "#2.梯度消失-》链式法则-》复合函数f(g(x)) \n",
    "#而批归一化可以缓解梯度消失，替代方案 selu可以缓解梯度消失，selu激活函数本身就有BatchNormalization的功能\n",
    "plot_learning_curves(history,\"深度神经网络归一化后的训练结果（Adam）\")"
   ]
  },
  {
   "cell_type": "code",
   "execution_count": 35,
   "metadata": {},
   "outputs": [
    {
     "name": "stdout",
     "output_type": "stream",
     "text": [
      "10000/10000 [==============================] - 1s 88us/sample - loss: 0.3435 - accuracy: 0.8887\n"
     ]
    },
    {
     "data": {
      "text/plain": [
       "[0.3434687650322914, 0.8887]"
      ]
     },
     "execution_count": 35,
     "metadata": {},
     "output_type": "execute_result"
    }
   ],
   "source": [
    "model.evaluate(x_test_scaled,y_test)"
   ]
  },
  {
   "cell_type": "code",
   "execution_count": 18,
   "metadata": {},
   "outputs": [
    {
     "data": {
      "image/png": "[encoded data removed]",
      "text/plain": [
       "<Figure size 576x360 with 1 Axes>"
      ]
     },
     "metadata": {
      "needs_background": "light"
     },
     "output_type": "display_data"
    }
   ],
   "source": [
    "plot_learning_curves(history,\"深度神经网络SeLU的训练结果（Adam）\")"
   ]
  },
  {
   "cell_type": "code",
   "execution_count": 10,
   "metadata": {},
   "outputs": [
    {
     "ename": "NameError",
     "evalue": "name 'plot_learning_curves' is not defined",
     "output_type": "error",
     "traceback": [
      "\u001b[1;31m---------------------------------------------------------------------------\u001b[0m",
      "\u001b[1;31mNameError\u001b[0m                                 Traceback (most recent call last)",
      "\u001b[1;32m<ipython-input-10-522dcdf65752>\u001b[0m in \u001b[0;36m<module>\u001b[1;34m\u001b[0m\n\u001b[1;32m----> 1\u001b[1;33m \u001b[0mplot_learning_curves\u001b[0m\u001b[1;33m(\u001b[0m\u001b[0mhistory\u001b[0m\u001b[1;33m,\u001b[0m\u001b[1;34m\"深度神经网络SeLU+Dropout的训练结果（Adam）\"\u001b[0m\u001b[1;33m)\u001b[0m\u001b[1;33m\u001b[0m\u001b[1;33m\u001b[0m\u001b[0m\n\u001b[0m",
      "\u001b[1;31mNameError\u001b[0m: name 'plot_learning_curves' is not defined"
     ]
    }
   ],
   "source": [
    "plot_learning_curves(history,\"深度神经网络SeLU+Dropout的训练结果（Adam）\")\n",
    "model.evaluate(x_test_scaled,y_test)"
   ]
  },
  {
   "cell_type": "code",
   "execution_count": null,
   "metadata": {},
   "outputs": [],
   "source": []
  }
 ],
 "metadata": {
  "kernelspec": {
   "display_name": "Python 3",
   "language": "python",
   "name": "python3"
  },
  "language_info": {
   "codemirror_mode": {
    "name": "ipython",
    "version": 3
   },
   "file_extension": ".py",
   "mimetype": "text/x-python",
   "name": "python",
   "nbconvert_exporter": "python",
   "pygments_lexer": "ipython3",
   "version": "3.7.3"
  }
 },
 "nbformat": 4,
 "nbformat_minor": 2
}
