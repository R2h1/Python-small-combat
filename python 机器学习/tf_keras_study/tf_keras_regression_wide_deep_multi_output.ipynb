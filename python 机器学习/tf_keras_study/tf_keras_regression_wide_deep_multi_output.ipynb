{
 "cells": [
  {
   "cell_type": "code",
   "execution_count": 1,
   "metadata": {},
   "outputs": [],
   "source": [
    "import os\n",
    "import sys\n",
    "import time\n",
    "import numpy as np\n",
    "import pandas as pd\n",
    "import sklearn\n",
    "import matplotlib as mpl\n",
    "import matplotlib.pyplot as plt\n",
    "%matplotlib inline\n",
    "\n",
    "import tensorflow as tf\n",
    "from tensorflow import keras"
   ]
  },
  {
   "cell_type": "code",
   "execution_count": 2,
   "metadata": {},
   "outputs": [],
   "source": [
    "from sklearn.datasets import fetch_california_housing"
   ]
  },
  {
   "cell_type": "code",
   "execution_count": 3,
   "metadata": {},
   "outputs": [
    {
     "name": "stdout",
     "output_type": "stream",
     "text": [
      ".. _california_housing_dataset:\n",
      "\n",
      "California Housing dataset\n",
      "--------------------------\n",
      "\n",
      "**Data Set Characteristics:**\n",
      "\n",
      "    :Number of Instances: 20640\n",
      "\n",
      "    :Number of Attributes: 8 numeric, predictive attributes and the target\n",
      "\n",
      "    :Attribute Information:\n",
      "        - MedInc        median income in block\n",
      "        - HouseAge      median house age in block\n",
      "        - AveRooms      average number of rooms\n",
      "        - AveBedrms     average number of bedrooms\n",
      "        - Population    block population\n",
      "        - AveOccup      average house occupancy\n",
      "        - Latitude      house block latitude\n",
      "        - Longitude     house block longitude\n",
      "\n",
      "    :Missing Attribute Values: None\n",
      "\n",
      "This dataset was obtained from the StatLib repository.\n",
      "http://lib.stat.cmu.edu/datasets/\n",
      "\n",
      "The target variable is the median house value for California districts.\n",
      "\n",
      "This dataset was derived from the 1990 U.S. census, using one row per census\n",
      "block group. A block group is the smallest geographical unit for which the U.S.\n",
      "Census Bureau publishes sample data (a block group typically has a population\n",
      "of 600 to 3,000 people).\n",
      "\n",
      "It can be downloaded/loaded using the\n",
      ":func:`sklearn.datasets.fetch_california_housing` function.\n",
      "\n",
      ".. topic:: References\n",
      "\n",
      "    - Pace, R. Kelley and Ronald Barry, Sparse Spatial Autoregressions,\n",
      "      Statistics and Probability Letters, 33 (1997) 291-297\n",
      "\n",
      "(20640, 8)\n",
      "(20640,)\n"
     ]
    }
   ],
   "source": [
    "housing = fetch_california_housing()\n",
    "print(housing.DESCR)\n",
    "print(housing.data.shape)\n",
    "print(housing.target.shape)"
   ]
  },
  {
   "cell_type": "markdown",
   "metadata": {},
   "source": [
    "### 数据集划分"
   ]
  },
  {
   "cell_type": "code",
   "execution_count": 4,
   "metadata": {},
   "outputs": [
    {
     "name": "stdout",
     "output_type": "stream",
     "text": [
      "(11610, 8) (11610,)\n",
      "(3870, 8) (3870,)\n",
      "(5160, 8) (5160,)\n"
     ]
    }
   ],
   "source": [
    "from sklearn.model_selection import train_test_split\n",
    "#默认训练集：测试集 =3 ：1 \n",
    "x_train_all,x_test,y_train_all,y_test = train_test_split(housing.data,housing.target,random_state = 7,test_size = 0.25)\n",
    "x_train,x_valid,y_train,y_valid = train_test_split(x_train_all,y_train_all,random_state = 11,test_size = 0.25)\n",
    "print(x_train.shape,y_train.shape)\n",
    "print(x_valid.shape,y_valid.shape)\n",
    "print(x_test.shape,y_test.shape)"
   ]
  },
  {
   "cell_type": "markdown",
   "metadata": {},
   "source": [
    "### 数据归一化处理"
   ]
  },
  {
   "cell_type": "code",
   "execution_count": 5,
   "metadata": {},
   "outputs": [],
   "source": [
    "from sklearn.preprocessing import StandardScaler\n",
    "\n",
    "scaler = StandardScaler()\n",
    "x_train_scaled = scaler.fit_transform(x_train)\n",
    "x_valid_scaled = scaler.transform(x_valid)\n",
    "x_test_scaled  = scaler.transform(x_test)"
   ]
  },
  {
   "cell_type": "markdown",
   "metadata": {},
   "source": [
    "### wide & deep 模型"
   ]
  },
  {
   "cell_type": "code",
   "execution_count": 6,
   "metadata": {},
   "outputs": [
    {
     "name": "stdout",
     "output_type": "stream",
     "text": [
      "Model: \"model\"\n",
      "__________________________________________________________________________________________________\n",
      "Layer (type)                    Output Shape         Param #     Connected to                     \n",
      "==================================================================================================\n",
      "input_2 (InputLayer)            [(None, 6)]          0                                            \n",
      "__________________________________________________________________________________________________\n",
      "dense (Dense)                   (None, 30)           210         input_2[0][0]                    \n",
      "__________________________________________________________________________________________________\n",
      "input_1 (InputLayer)            [(None, 5)]          0                                            \n",
      "__________________________________________________________________________________________________\n",
      "dense_1 (Dense)                 (None, 30)           930         dense[0][0]                      \n",
      "__________________________________________________________________________________________________\n",
      "concatenate (Concatenate)       (None, 35)           0           input_1[0][0]                    \n",
      "                                                                 dense_1[0][0]                    \n",
      "__________________________________________________________________________________________________\n",
      "dense_2 (Dense)                 (None, 1)            36          concatenate[0][0]                \n",
      "__________________________________________________________________________________________________\n",
      "dense_3 (Dense)                 (None, 1)            31          dense_1[0][0]                    \n",
      "==================================================================================================\n",
      "Total params: 1,207\n",
      "Trainable params: 1,207\n",
      "Non-trainable params: 0\n",
      "__________________________________________________________________________________________________\n"
     ]
    }
   ],
   "source": [
    "# 函数式api 功能API\n",
    "# input = tf.keras.layers.Input(shape = x_train_scaled.shape[1:])\n",
    "# hidden1 = tf.keras.layers.Dense(30,activation = \"relu\")(input)\n",
    "# hidden2 = tf.keras.layers.Dense(30,activation = \"relu\")(hidden1)\n",
    "# concat = tf.keras.layers.concatenate([input,hidden2])\n",
    "# output = tf.keras.layers.Dense(1)(concat)\n",
    "# model = tf.keras.models.Model(inputs = [input],outputs=[output])\n",
    "\n",
    "#子类API实现\n",
    "# class WideDeepModel(tf.keras.models.Model):\n",
    "#     def __init__(self):\n",
    "#         super(WideDeepModel,self).__init__()\n",
    "#         '''定义模型层次'''\n",
    "#         self.hidden1_layer = tf.keras.layers.Dense(30,activation = \"relu\")\n",
    "#         self.hidden2_layer = tf.keras.layers.Dense(30,activation = \"relu\")\n",
    "#         self.output_layer = tf.keras.layers.Dense(1)\n",
    "#     #python 中实例对象 model（input）就会调用call函数\n",
    "#     def call(self,input):\n",
    "#         '''定义模型的正向计算'''\n",
    "#         hidden1 = self.hidden1_layer(input)\n",
    "#         hidden2 = self.hidden2_layer(hidden1)\n",
    "#         concat = tf.keras.layers.concatenate([input,hidden2])\n",
    "#         output = self.output_layer(concat)\n",
    "#         return output\n",
    "# model = WideDeepModel() # 或者 model = tf.keras.models.Sequential([WideDeepModel(),])\n",
    "# model.build(input_shape = (None,8))\n",
    "\n",
    "#多输入和多输出\n",
    "input_wide = tf.keras.layers.Input(shape=[5])\n",
    "input_deep = tf.keras.layers.Input(shape=[6])\n",
    "hidden1 = tf.keras.layers.Dense(30,activation = \"relu\")(input_deep)\n",
    "hidden2 = tf.keras.layers.Dense(30,activation = \"relu\")(hidden1)\n",
    "concat = tf.keras.layers.concatenate([input_wide,hidden2])\n",
    "output1 = tf.keras.layers.Dense(1)(concat)\n",
    "output2 = tf.keras.layers.Dense(1)(hidden2)\n",
    "\n",
    "model = tf.keras.models.Model(inputs = [input_wide,input_deep],outputs=[output1,output2])\n",
    "\n",
    "model.summary()\n",
    "model.compile(loss=\"mean_squared_error\",optimizer=\"Adam\") #sgd随机梯度下降，mean_squared_error均方误差\n",
    "callbacks = [tf.keras.callbacks.EarlyStopping(patience= 5,min_delta = 1e-3)]"
   ]
  },
  {
   "cell_type": "code",
   "execution_count": 7,
   "metadata": {},
   "outputs": [
    {
     "name": "stdout",
     "output_type": "stream",
     "text": [
      "Train on 11610 samples, validate on 3870 samples\n",
      "Epoch 1/100\n",
      "11610/11610 [==============================] - 2s 161us/sample - loss: 2.9612 - dense_2_loss: 1.5129 - dense_3_loss: 1.4472 - val_loss: 1.4492 - val_dense_2_loss: 0.7109 - val_dense_3_loss: 0.7380\n",
      "Epoch 2/100\n",
      "11610/11610 [==============================] - 1s 101us/sample - loss: 1.1931 - dense_2_loss: 0.5705 - dense_3_loss: 0.6226 - val_loss: 1.1221 - val_dense_2_loss: 0.5281 - val_dense_3_loss: 0.5938\n",
      "Epoch 3/100\n",
      "11610/11610 [==============================] - 1s 100us/sample - loss: 1.0106 - dense_2_loss: 0.4646 - dense_3_loss: 0.5460 - val_loss: 0.9785 - val_dense_2_loss: 0.4500 - val_dense_3_loss: 0.5284\n",
      "Epoch 4/100\n",
      "11610/11610 [==============================] - 1s 101us/sample - loss: 0.9103 - dense_2_loss: 0.4156 - dense_3_loss: 0.4946 - val_loss: 0.9130 - val_dense_2_loss: 0.4153 - val_dense_3_loss: 0.4976\n",
      "Epoch 5/100\n",
      "11610/11610 [==============================] - 1s 104us/sample - loss: 0.8593 - dense_2_loss: 0.3937 - dense_3_loss: 0.4661 - val_loss: 0.8944 - val_dense_2_loss: 0.4111 - val_dense_3_loss: 0.4831\n",
      "Epoch 6/100\n",
      "11610/11610 [==============================] - 1s 100us/sample - loss: 0.8253 - dense_2_loss: 0.3709 - dense_3_loss: 0.4546 - val_loss: 0.8444 - val_dense_2_loss: 0.3827 - val_dense_3_loss: 0.4615\n",
      "Epoch 7/100\n",
      "11610/11610 [==============================] - 1s 100us/sample - loss: 0.8120 - dense_2_loss: 0.3638 - dense_3_loss: 0.4484 - val_loss: 0.8288 - val_dense_2_loss: 0.3757 - val_dense_3_loss: 0.4530\n",
      "Epoch 8/100\n",
      "11610/11610 [==============================] - 1s 99us/sample - loss: 0.7895 - dense_2_loss: 0.3530 - dense_3_loss: 0.4367 - val_loss: 0.8052 - val_dense_2_loss: 0.3691 - val_dense_3_loss: 0.4360\n",
      "Epoch 9/100\n",
      "11610/11610 [==============================] - 1s 98us/sample - loss: 0.7605 - dense_2_loss: 0.3452 - dense_3_loss: 0.4153 - val_loss: 0.7848 - val_dense_2_loss: 0.3600 - val_dense_3_loss: 0.4247\n",
      "Epoch 10/100\n",
      "11610/11610 [==============================] - 1s 100us/sample - loss: 0.7454 - dense_2_loss: 0.3411 - dense_3_loss: 0.4043 - val_loss: 0.7957 - val_dense_2_loss: 0.3625 - val_dense_3_loss: 0.4331\n",
      "Epoch 11/100\n",
      "11610/11610 [==============================] - 1s 96us/sample - loss: 0.7510 - dense_2_loss: 0.3458 - dense_3_loss: 0.4052 - val_loss: 0.7652 - val_dense_2_loss: 0.3496 - val_dense_3_loss: 0.4155\n",
      "Epoch 12/100\n",
      "11610/11610 [==============================] - 1s 99us/sample - loss: 0.7719 - dense_2_loss: 0.3514 - dense_3_loss: 0.4206 - val_loss: 0.7818 - val_dense_2_loss: 0.3523 - val_dense_3_loss: 0.4294\n",
      "Epoch 13/100\n",
      "11610/11610 [==============================] - 1s 98us/sample - loss: 0.7514 - dense_2_loss: 0.3392 - dense_3_loss: 0.4122 - val_loss: 0.7485 - val_dense_2_loss: 0.3429 - val_dense_3_loss: 0.4055\n",
      "Epoch 14/100\n",
      "11610/11610 [==============================] - 1s 99us/sample - loss: 0.7144 - dense_2_loss: 0.3281 - dense_3_loss: 0.3864 - val_loss: 0.7341 - val_dense_2_loss: 0.3385 - val_dense_3_loss: 0.3956\n",
      "Epoch 15/100\n",
      "11610/11610 [==============================] - 1s 100us/sample - loss: 0.7203 - dense_2_loss: 0.3338 - dense_3_loss: 0.3864 - val_loss: 0.7360 - val_dense_2_loss: 0.3385 - val_dense_3_loss: 0.3974\n",
      "Epoch 16/100\n",
      "11610/11610 [==============================] - 1s 101us/sample - loss: 0.7079 - dense_2_loss: 0.3263 - dense_3_loss: 0.3816 - val_loss: 0.7394 - val_dense_2_loss: 0.3426 - val_dense_3_loss: 0.3966\n",
      "Epoch 17/100\n",
      "11610/11610 [==============================] - 1s 104us/sample - loss: 0.6998 - dense_2_loss: 0.3230 - dense_3_loss: 0.3772 - val_loss: 0.7193 - val_dense_2_loss: 0.3326 - val_dense_3_loss: 0.3866\n",
      "Epoch 18/100\n",
      "11610/11610 [==============================] - 1s 113us/sample - loss: 0.6962 - dense_2_loss: 0.3214 - dense_3_loss: 0.3746 - val_loss: 0.7198 - val_dense_2_loss: 0.3341 - val_dense_3_loss: 0.3856\n",
      "Epoch 19/100\n",
      "11610/11610 [==============================] - 1s 97us/sample - loss: 0.6933 - dense_2_loss: 0.3218 - dense_3_loss: 0.3718 - val_loss: 0.7351 - val_dense_2_loss: 0.3408 - val_dense_3_loss: 0.3941\n",
      "Epoch 20/100\n",
      "11610/11610 [==============================] - 1s 99us/sample - loss: 0.6892 - dense_2_loss: 0.3189 - dense_3_loss: 0.3706 - val_loss: 0.7144 - val_dense_2_loss: 0.3323 - val_dense_3_loss: 0.3819\n",
      "Epoch 21/100\n",
      "11610/11610 [==============================] - 1s 99us/sample - loss: 0.6866 - dense_2_loss: 0.3186 - dense_3_loss: 0.3683 - val_loss: 0.7253 - val_dense_2_loss: 0.3357 - val_dense_3_loss: 0.3895\n",
      "Epoch 22/100\n",
      "11610/11610 [==============================] - 1s 100us/sample - loss: 0.7079 - dense_2_loss: 0.3230 - dense_3_loss: 0.3848 - val_loss: 0.7050 - val_dense_2_loss: 0.3276 - val_dense_3_loss: 0.3773\n",
      "Epoch 23/100\n",
      "11610/11610 [==============================] - 1s 99us/sample - loss: 0.6816 - dense_2_loss: 0.3157 - dense_3_loss: 0.3657 - val_loss: 0.7045 - val_dense_2_loss: 0.3261 - val_dense_3_loss: 0.3783\n",
      "Epoch 24/100\n",
      "11610/11610 [==============================] - 1s 99us/sample - loss: 0.6734 - dense_2_loss: 0.3120 - dense_3_loss: 0.3614 - val_loss: 0.7009 - val_dense_2_loss: 0.3258 - val_dense_3_loss: 0.3750\n",
      "Epoch 25/100\n",
      "11610/11610 [==============================] - 1s 104us/sample - loss: 0.6788 - dense_2_loss: 0.3161 - dense_3_loss: 0.3625 - val_loss: 0.6978 - val_dense_2_loss: 0.3256 - val_dense_3_loss: 0.3721\n",
      "Epoch 26/100\n",
      "11610/11610 [==============================] - 1s 101us/sample - loss: 0.6741 - dense_2_loss: 0.3129 - dense_3_loss: 0.3612 - val_loss: 0.6916 - val_dense_2_loss: 0.3223 - val_dense_3_loss: 0.3692\n",
      "Epoch 27/100\n",
      "11610/11610 [==============================] - 1s 101us/sample - loss: 0.6692 - dense_2_loss: 0.3110 - dense_3_loss: 0.3583 - val_loss: 0.6862 - val_dense_2_loss: 0.3191 - val_dense_3_loss: 0.3670\n",
      "Epoch 28/100\n",
      "11610/11610 [==============================] - 1s 118us/sample - loss: 0.6671 - dense_2_loss: 0.3083 - dense_3_loss: 0.3588 - val_loss: 0.6993 - val_dense_2_loss: 0.3238 - val_dense_3_loss: 0.3754\n",
      "Epoch 29/100\n",
      "11610/11610 [==============================] - 1s 112us/sample - loss: 0.6611 - dense_2_loss: 0.3070 - dense_3_loss: 0.3543 - val_loss: 0.6917 - val_dense_2_loss: 0.3204 - val_dense_3_loss: 0.3712\n",
      "Epoch 30/100\n",
      "11610/11610 [==============================] - 1s 109us/sample - loss: 0.6620 - dense_2_loss: 0.3079 - dense_3_loss: 0.3548 - val_loss: 0.6995 - val_dense_2_loss: 0.3271 - val_dense_3_loss: 0.3723\n",
      "Epoch 31/100\n",
      "11610/11610 [==============================] - 1s 109us/sample - loss: 0.6684 - dense_2_loss: 0.3096 - dense_3_loss: 0.3586 - val_loss: 0.6977 - val_dense_2_loss: 0.3257 - val_dense_3_loss: 0.3719\n",
      "Epoch 32/100\n",
      "11610/11610 [==============================] - 1s 105us/sample - loss: 0.6619 - dense_2_loss: 0.3087 - dense_3_loss: 0.3533 - val_loss: 0.6933 - val_dense_2_loss: 0.3176 - val_dense_3_loss: 0.3757\n"
     ]
    }
   ],
   "source": [
    "#多输入\n",
    "x_train_scaled_wide = x_train_scaled[:,0:5]\n",
    "x_train_scaled_deep = x_train_scaled[:,2:]\n",
    "x_valid_scaled_wide = x_valid_scaled[:,0:5]\n",
    "x_valid_scaled_deep = x_valid_scaled[:,2:]\n",
    "x_test_scaled_wide = x_test_scaled[:,0:5]\n",
    "x_test_scaled_deep = x_test_scaled[:,2:]\n",
    "history = model.fit([x_train_scaled_wide,x_train_scaled_deep],\n",
    "                    [y_train,y_train],\n",
    "                    validation_data=([x_valid_scaled_wide,x_valid_scaled_deep],[y_valid,y_valid]),\n",
    "                    epochs=100,\n",
    "                    callbacks=callbacks)\n",
    "\n",
    "# history = model.fit(x_train_scaled,y_train,validation_data=(x_valid_scaled,y_valid),epochs=100,callbacks=callbacks)"
   ]
  },
  {
   "cell_type": "code",
   "execution_count": 8,
   "metadata": {},
   "outputs": [
    {
     "data": {
      "image/png": "[encoded data removed]",
      "text/plain": [
       "<Figure size 576x360 with 1 Axes>"
      ]
     },
     "metadata": {
      "needs_background": "light"
     },
     "output_type": "display_data"
    },
    {
     "name": "stdout",
     "output_type": "stream",
     "text": [
      "5160/5160 [==============================] - 0s 50us/sample - loss: 0.6926 - dense_2_loss: 0.3241 - dense_3_loss: 0.3711\n"
     ]
    },
    {
     "data": {
      "text/plain": [
       "[0.6926319360733032, 0.32410392, 0.371099]"
      ]
     },
     "execution_count": 8,
     "metadata": {},
     "output_type": "execute_result"
    }
   ],
   "source": [
    "def plot_learning_curves_with_title(history,img_title):\n",
    "    pd.DataFrame(history.history).plot(figsize=(8,5))\n",
    "    plt.grid(True)\n",
    "    plt.gca().set_ylim(0,1)\n",
    "    from matplotlib.font_manager import FontProperties\n",
    "    font_set= FontProperties(fname=r\"c:\\windows\\fonts\\simsun.ttc\",size=12)\n",
    "    plt.title(img_title,fontProperties = font_set)\n",
    "    plt.show()\n",
    "plot_learning_curves_with_title(history,\"多输入和多输出的wide&deep模型\")\n",
    "model.evaluate([x_test_scaled_wide,x_test_scaled_deep],[y_test,y_test])"
   ]
  },
  {
   "cell_type": "code",
   "execution_count": null,
   "metadata": {},
   "outputs": [],
   "source": []
  }
 ],
 "metadata": {
  "kernelspec": {
   "display_name": "Python 3",
   "language": "python",
   "name": "python3"
  },
  "language_info": {
   "codemirror_mode": {
    "name": "ipython",
    "version": 3
   },
   "file_extension": ".py",
   "mimetype": "text/x-python",
   "name": "python",
   "nbconvert_exporter": "python",
   "pygments_lexer": "ipython3",
   "version": "3.7.3"
  }
 },
 "nbformat": 4,
 "nbformat_minor": 2
}
