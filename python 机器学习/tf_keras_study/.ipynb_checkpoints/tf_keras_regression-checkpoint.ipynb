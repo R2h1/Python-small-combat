{
 "cells": [
  {
   "cell_type": "code",
   "execution_count": 1,
   "metadata": {},
   "outputs": [],
   "source": [
    "import os\n",
    "import sys\n",
    "import time\n",
    "import numpy as np\n",
    "import pandas as pd\n",
    "import sklearn\n",
    "import matplotlib as mpl\n",
    "import matplotlib.pyplot as plt\n",
    "%matplotlib inline\n",
    "\n",
    "import tensorflow as tf"
   ]
  },
  {
   "cell_type": "code",
   "execution_count": 2,
   "metadata": {},
   "outputs": [],
   "source": [
    "from sklearn.datasets import fetch_california_housing"
   ]
  },
  {
   "cell_type": "code",
   "execution_count": 3,
   "metadata": {},
   "outputs": [
    {
     "name": "stdout",
     "output_type": "stream",
     "text": [
      ".. _california_housing_dataset:\n",
      "\n",
      "California Housing dataset\n",
      "--------------------------\n",
      "\n",
      "**Data Set Characteristics:**\n",
      "\n",
      "    :Number of Instances: 20640\n",
      "\n",
      "    :Number of Attributes: 8 numeric, predictive attributes and the target\n",
      "\n",
      "    :Attribute Information:\n",
      "        - MedInc        median income in block\n",
      "        - HouseAge      median house age in block\n",
      "        - AveRooms      average number of rooms\n",
      "        - AveBedrms     average number of bedrooms\n",
      "        - Population    block population\n",
      "        - AveOccup      average house occupancy\n",
      "        - Latitude      house block latitude\n",
      "        - Longitude     house block longitude\n",
      "\n",
      "    :Missing Attribute Values: None\n",
      "\n",
      "This dataset was obtained from the StatLib repository.\n",
      "http://lib.stat.cmu.edu/datasets/\n",
      "\n",
      "The target variable is the median house value for California districts.\n",
      "\n",
      "This dataset was derived from the 1990 U.S. census, using one row per census\n",
      "block group. A block group is the smallest geographical unit for which the U.S.\n",
      "Census Bureau publishes sample data (a block group typically has a population\n",
      "of 600 to 3,000 people).\n",
      "\n",
      "It can be downloaded/loaded using the\n",
      ":func:`sklearn.datasets.fetch_california_housing` function.\n",
      "\n",
      ".. topic:: References\n",
      "\n",
      "    - Pace, R. Kelley and Ronald Barry, Sparse Spatial Autoregressions,\n",
      "      Statistics and Probability Letters, 33 (1997) 291-297\n",
      "\n",
      "(20640, 8)\n",
      "(20640,)\n"
     ]
    }
   ],
   "source": [
    "housing = fetch_california_housing()\n",
    "print(housing.DESCR)\n",
    "print(housing.data.shape)\n",
    "print(housing.target.shape)"
   ]
  },
  {
   "cell_type": "code",
   "execution_count": 4,
   "metadata": {
    "scrolled": true
   },
   "outputs": [
    {
     "name": "stdout",
     "output_type": "stream",
     "text": [
      "array([[ 8.32520000e+00,  4.10000000e+01,  6.98412698e+00,\n",
      "         1.02380952e+00,  3.22000000e+02,  2.55555556e+00,\n",
      "         3.78800000e+01, -1.22230000e+02],\n",
      "       [ 8.30140000e+00,  2.10000000e+01,  6.23813708e+00,\n",
      "         9.71880492e-01,  2.40100000e+03,  2.10984183e+00,\n",
      "         3.78600000e+01, -1.22220000e+02],\n",
      "       [ 7.25740000e+00,  5.20000000e+01,  8.28813559e+00,\n",
      "         1.07344633e+00,  4.96000000e+02,  2.80225989e+00,\n",
      "         3.78500000e+01, -1.22240000e+02]])\n",
      "array([4.526, 3.585, 3.521])\n"
     ]
    }
   ],
   "source": [
    "import pprint\n",
    "pprint.pprint(housing.data[0:3])\n",
    "pprint.pprint(housing.target[0:3])"
   ]
  },
  {
   "cell_type": "markdown",
   "metadata": {},
   "source": [
    "### 数据集划分"
   ]
  },
  {
   "cell_type": "code",
   "execution_count": 5,
   "metadata": {},
   "outputs": [
    {
     "name": "stdout",
     "output_type": "stream",
     "text": [
      "(11610, 8) (11610,)\n",
      "(3870, 8) (3870,)\n",
      "(5160, 8) (5160,)\n"
     ]
    }
   ],
   "source": [
    "from sklearn.model_selection import train_test_split\n",
    "#默认训练集：测试集 =3 ：1 \n",
    "x_train_all,x_test,y_train_all,y_test = train_test_split(housing.data,housing.target,random_state = 7,test_size = 0.25)\n",
    "x_train,x_valid,y_train,y_valid = train_test_split(x_train_all,y_train_all,random_state = 11,test_size = 0.25)\n",
    "print(x_train.shape,y_train.shape)\n",
    "print(x_valid.shape,y_valid.shape)\n",
    "print(x_test.shape,y_test.shape)"
   ]
  },
  {
   "cell_type": "markdown",
   "metadata": {},
   "source": [
    "### 数据归一化处理"
   ]
  },
  {
   "cell_type": "code",
   "execution_count": 6,
   "metadata": {},
   "outputs": [],
   "source": [
    "from sklearn.preprocessing import StandardScaler\n",
    "\n",
    "scaler = StandardScaler()\n",
    "x_train_scaled = scaler.fit_transform(x_train)\n",
    "x_valid_scaled = scaler.transform(x_valid)\n",
    "x_test_scaled  = scaler.transform(x_test)"
   ]
  },
  {
   "cell_type": "code",
   "execution_count": 7,
   "metadata": {},
   "outputs": [
    {
     "name": "stdout",
     "output_type": "stream",
     "text": [
      "Model: \"sequential\"\n",
      "_________________________________________________________________\n",
      "Layer (type)                 Output Shape              Param #   \n",
      "=================================================================\n",
      "dense (Dense)                (None, 30)                270       \n",
      "_________________________________________________________________\n",
      "dense_1 (Dense)              (None, 1)                 31        \n",
      "=================================================================\n",
      "Total params: 301\n",
      "Trainable params: 301\n",
      "Non-trainable params: 0\n",
      "_________________________________________________________________\n"
     ]
    }
   ],
   "source": [
    "model = tf.keras.models.Sequential([\n",
    "    tf.keras.layers.Dense(30,activation = \"relu\",input_shape = x_train_scaled.shape[1:]),\n",
    "    tf.keras.layers.Dense(1)\n",
    "])\n",
    "model.summary()\n",
    "model.compile(loss=\"mean_squared_error\",optimizer=\"Adam\") #sgd随机梯度下降，mean_squared_error均方误差\n",
    "callbacks = [tf.keras.callbacks.EarlyStopping(patience= 5,min_delta = 1e-3)]"
   ]
  },
  {
   "cell_type": "code",
   "execution_count": 8,
   "metadata": {},
   "outputs": [
    {
     "name": "stdout",
     "output_type": "stream",
     "text": [
      "Train on 11610 samples, validate on 3870 samples\n",
      "Epoch 1/100\n",
      "11610/11610 [==============================] - 2s 132us/sample - loss: 1.4911 - val_loss: 0.7035\n",
      "Epoch 2/100\n",
      "11610/11610 [==============================] - 1s 111us/sample - loss: 0.5664 - val_loss: 0.5449\n",
      "Epoch 3/100\n",
      "11610/11610 [==============================] - 1s 89us/sample - loss: 0.4683 - val_loss: 0.4745\n",
      "Epoch 4/100\n",
      "11610/11610 [==============================] - 1s 85us/sample - loss: 0.4274 - val_loss: 0.4347\n",
      "Epoch 5/100\n",
      "11610/11610 [==============================] - 1s 79us/sample - loss: 0.4083 - val_loss: 0.4194\n",
      "Epoch 6/100\n",
      "11610/11610 [==============================] - 1s 78us/sample - loss: 0.4006 - val_loss: 0.4081\n",
      "Epoch 7/100\n",
      "11610/11610 [==============================] - 1s 83us/sample - loss: 0.3919 - val_loss: 0.4016\n",
      "Epoch 8/100\n",
      "11610/11610 [==============================] - 1s 88us/sample - loss: 0.3865 - val_loss: 0.3962\n",
      "Epoch 9/100\n",
      "11610/11610 [==============================] - 1s 89us/sample - loss: 0.3839 - val_loss: 0.3929\n",
      "Epoch 10/100\n",
      "11610/11610 [==============================] - 1s 82us/sample - loss: 0.3812 - val_loss: 0.4038\n",
      "Epoch 11/100\n",
      "11610/11610 [==============================] - 1s 86us/sample - loss: 0.3780 - val_loss: 0.3828\n",
      "Epoch 12/100\n",
      "11610/11610 [==============================] - 1s 88us/sample - loss: 0.3735 - val_loss: 0.3774\n",
      "Epoch 13/100\n",
      "11610/11610 [==============================] - 1s 83us/sample - loss: 0.3698 - val_loss: 0.3735\n",
      "Epoch 14/100\n",
      "11610/11610 [==============================] - 1s 81us/sample - loss: 0.3657 - val_loss: 0.3850\n",
      "Epoch 15/100\n",
      "11610/11610 [==============================] - 1s 87us/sample - loss: 0.3670 - val_loss: 0.3673\n",
      "Epoch 16/100\n",
      "11610/11610 [==============================] - 1s 83us/sample - loss: 0.3601 - val_loss: 0.3620\n",
      "Epoch 17/100\n",
      "11610/11610 [==============================] - 1s 91us/sample - loss: 0.3561 - val_loss: 0.3622\n",
      "Epoch 18/100\n",
      "11610/11610 [==============================] - 1s 87us/sample - loss: 0.3546 - val_loss: 0.3748\n",
      "Epoch 19/100\n",
      "11610/11610 [==============================] - 1s 93us/sample - loss: 0.3523 - val_loss: 0.3627\n",
      "Epoch 20/100\n",
      "11610/11610 [==============================] - 1s 85us/sample - loss: 0.3488 - val_loss: 0.3575\n",
      "Epoch 21/100\n",
      "11610/11610 [==============================] - 1s 89us/sample - loss: 0.3466 - val_loss: 0.3530\n",
      "Epoch 22/100\n",
      "11610/11610 [==============================] - 1s 98us/sample - loss: 0.3442 - val_loss: 0.3537\n",
      "Epoch 23/100\n",
      "11610/11610 [==============================] - 1s 95us/sample - loss: 0.3415 - val_loss: 0.3506\n",
      "Epoch 24/100\n",
      "11610/11610 [==============================] - 1s 101us/sample - loss: 0.3399 - val_loss: 0.3497\n",
      "Epoch 25/100\n",
      "11610/11610 [==============================] - 1s 101us/sample - loss: 0.3374 - val_loss: 0.3427\n",
      "Epoch 26/100\n",
      "11610/11610 [==============================] - 1s 95us/sample - loss: 0.3358 - val_loss: 0.3423\n",
      "Epoch 27/100\n",
      "11610/11610 [==============================] - 1s 107us/sample - loss: 0.3445 - val_loss: 0.3448\n",
      "Epoch 28/100\n",
      "11610/11610 [==============================] - 1s 95us/sample - loss: 0.3332 - val_loss: 0.3400\n",
      "Epoch 29/100\n",
      "11610/11610 [==============================] - 1s 95us/sample - loss: 0.3315 - val_loss: 0.3383\n",
      "Epoch 30/100\n",
      "11610/11610 [==============================] - 1s 93us/sample - loss: 0.3290 - val_loss: 0.3418\n",
      "Epoch 31/100\n",
      "11610/11610 [==============================] - 1s 92us/sample - loss: 0.3310 - val_loss: 0.3370\n",
      "Epoch 32/100\n",
      "11610/11610 [==============================] - 1s 96us/sample - loss: 0.3304 - val_loss: 0.3397\n",
      "Epoch 33/100\n",
      "11610/11610 [==============================] - 1s 102us/sample - loss: 0.3325 - val_loss: 0.3441\n",
      "Epoch 34/100\n",
      "11610/11610 [==============================] - 1s 93us/sample - loss: 0.3269 - val_loss: 0.3423\n",
      "Epoch 35/100\n",
      "11610/11610 [==============================] - 1s 93us/sample - loss: 0.3295 - val_loss: 0.3386\n",
      "Epoch 36/100\n",
      "11610/11610 [==============================] - 1s 93us/sample - loss: 0.3262 - val_loss: 0.3395\n"
     ]
    }
   ],
   "source": [
    "history = model.fit(x_train_scaled,y_train,validation_data=(x_valid_scaled,y_valid),epochs=100,callbacks=callbacks)"
   ]
  },
  {
   "cell_type": "code",
   "execution_count": 9,
   "metadata": {},
   "outputs": [
    {
     "data": {
      "image/png": "[encoded data removed]",
      "text/plain": [
       "<Figure size 576x360 with 1 Axes>"
      ]
     },
     "metadata": {
      "needs_background": "light"
     },
     "output_type": "display_data"
    }
   ],
   "source": [
    "def plot_learning_curves(history):\n",
    "    pd.DataFrame(history.history).plot(figsize=(8,5))\n",
    "    plt.grid(True)\n",
    "    plt.gca().set_ylim(0,1)\n",
    "    plt.show()\n",
    "plot_learning_curves(history)"
   ]
  },
  {
   "cell_type": "code",
   "execution_count": 10,
   "metadata": {},
   "outputs": [
    {
     "name": "stdout",
     "output_type": "stream",
     "text": [
      "5160/5160 [==============================] - 0s 42us/sample - loss: 0.3431\n"
     ]
    },
    {
     "data": {
      "text/plain": [
       "0.34309395316035246"
      ]
     },
     "execution_count": 10,
     "metadata": {},
     "output_type": "execute_result"
    }
   ],
   "source": [
    "model.evaluate(x_test_scaled,y_test)"
   ]
  },
  {
   "cell_type": "code",
   "execution_count": null,
   "metadata": {},
   "outputs": [],
   "source": []
  }
 ],
 "metadata": {
  "kernelspec": {
   "display_name": "Python 3",
   "language": "python",
   "name": "python3"
  },
  "language_info": {
   "codemirror_mode": {
    "name": "ipython",
    "version": 3
   },
   "file_extension": ".py",
   "mimetype": "text/x-python",
   "name": "python",
   "nbconvert_exporter": "python",
   "pygments_lexer": "ipython3",
   "version": "3.7.3"
  }
 },
 "nbformat": 4,
 "nbformat_minor": 2
}
