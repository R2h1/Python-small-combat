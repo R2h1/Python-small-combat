{
 "cells": [
  {
   "cell_type": "code",
   "execution_count": 1,
   "metadata": {},
   "outputs": [],
   "source": [
    "import os\n",
    "import sys\n",
    "import time\n",
    "import numpy as np\n",
    "import pandas as pd\n",
    "import sklearn\n",
    "import matplotlib as mpl\n",
    "import matplotlib.pyplot as plt\n",
    "%matplotlib inline\n",
    "\n",
    "import tensorflow as tf"
   ]
  },
  {
   "cell_type": "code",
   "execution_count": 2,
   "metadata": {},
   "outputs": [],
   "source": [
    "from sklearn.datasets import fetch_california_housing"
   ]
  },
  {
   "cell_type": "code",
   "execution_count": 3,
   "metadata": {},
   "outputs": [
    {
     "name": "stdout",
     "output_type": "stream",
     "text": [
      ".. _california_housing_dataset:\n",
      "\n",
      "California Housing dataset\n",
      "--------------------------\n",
      "\n",
      "**Data Set Characteristics:**\n",
      "\n",
      "    :Number of Instances: 20640\n",
      "\n",
      "    :Number of Attributes: 8 numeric, predictive attributes and the target\n",
      "\n",
      "    :Attribute Information:\n",
      "        - MedInc        median income in block\n",
      "        - HouseAge      median house age in block\n",
      "        - AveRooms      average number of rooms\n",
      "        - AveBedrms     average number of bedrooms\n",
      "        - Population    block population\n",
      "        - AveOccup      average house occupancy\n",
      "        - Latitude      house block latitude\n",
      "        - Longitude     house block longitude\n",
      "\n",
      "    :Missing Attribute Values: None\n",
      "\n",
      "This dataset was obtained from the StatLib repository.\n",
      "http://lib.stat.cmu.edu/datasets/\n",
      "\n",
      "The target variable is the median house value for California districts.\n",
      "\n",
      "This dataset was derived from the 1990 U.S. census, using one row per census\n",
      "block group. A block group is the smallest geographical unit for which the U.S.\n",
      "Census Bureau publishes sample data (a block group typically has a population\n",
      "of 600 to 3,000 people).\n",
      "\n",
      "It can be downloaded/loaded using the\n",
      ":func:`sklearn.datasets.fetch_california_housing` function.\n",
      "\n",
      ".. topic:: References\n",
      "\n",
      "    - Pace, R. Kelley and Ronald Barry, Sparse Spatial Autoregressions,\n",
      "      Statistics and Probability Letters, 33 (1997) 291-297\n",
      "\n",
      "(20640, 8)\n",
      "(20640,)\n"
     ]
    }
   ],
   "source": [
    "housing = fetch_california_housing()\n",
    "print(housing.DESCR)\n",
    "print(housing.data.shape)\n",
    "print(housing.target.shape)"
   ]
  },
  {
   "cell_type": "markdown",
   "metadata": {},
   "source": [
    "### 数据集划分"
   ]
  },
  {
   "cell_type": "code",
   "execution_count": 4,
   "metadata": {},
   "outputs": [
    {
     "name": "stdout",
     "output_type": "stream",
     "text": [
      "(11610, 8) (11610,)\n",
      "(3870, 8) (3870,)\n",
      "(5160, 8) (5160,)\n"
     ]
    }
   ],
   "source": [
    "from sklearn.model_selection import train_test_split\n",
    "#默认训练集：测试集 =3 ：1 \n",
    "x_train_all,x_test,y_train_all,y_test = train_test_split(housing.data,housing.target,random_state = 7,test_size = 0.25)\n",
    "x_train,x_valid,y_train,y_valid = train_test_split(x_train_all,y_train_all,random_state = 11,test_size = 0.25)\n",
    "print(x_train.shape,y_train.shape)\n",
    "print(x_valid.shape,y_valid.shape)\n",
    "print(x_test.shape,y_test.shape)"
   ]
  },
  {
   "cell_type": "markdown",
   "metadata": {},
   "source": [
    "### 数据归一化处理"
   ]
  },
  {
   "cell_type": "code",
   "execution_count": 5,
   "metadata": {},
   "outputs": [],
   "source": [
    "from sklearn.preprocessing import StandardScaler\n",
    "\n",
    "scaler = StandardScaler()\n",
    "x_train_scaled = scaler.fit_transform(x_train)\n",
    "x_valid_scaled = scaler.transform(x_valid)\n",
    "x_test_scaled  = scaler.transform(x_test)"
   ]
  },
  {
   "cell_type": "markdown",
   "metadata": {},
   "source": [
    "### wide & deep 模型"
   ]
  },
  {
   "cell_type": "code",
   "execution_count": 20,
   "metadata": {},
   "outputs": [
    {
     "name": "stdout",
     "output_type": "stream",
     "text": [
      "Model: \"model_4\"\n",
      "__________________________________________________________________________________________________\n",
      "Layer (type)                    Output Shape         Param #     Connected to                     \n",
      "==================================================================================================\n",
      "input_6 (InputLayer)            [(None, 6)]          0                                            \n",
      "__________________________________________________________________________________________________\n",
      "dense_18 (Dense)                (None, 30)           210         input_6[0][0]                    \n",
      "__________________________________________________________________________________________________\n",
      "input_5 (InputLayer)            [(None, 5)]          0                                            \n",
      "__________________________________________________________________________________________________\n",
      "dense_19 (Dense)                (None, 30)           930         dense_18[0][0]                   \n",
      "__________________________________________________________________________________________________\n",
      "concatenate_4 (Concatenate)     (None, 35)           0           input_5[0][0]                    \n",
      "                                                                 dense_19[0][0]                   \n",
      "__________________________________________________________________________________________________\n",
      "dense_20 (Dense)                (None, 1)            36          concatenate_4[0][0]              \n",
      "==================================================================================================\n",
      "Total params: 1,176\n",
      "Trainable params: 1,176\n",
      "Non-trainable params: 0\n",
      "__________________________________________________________________________________________________\n"
     ]
    }
   ],
   "source": [
    "# 函数式api 功能API\n",
    "# input = tf.keras.layers.Input(shape = x_train_scaled.shape[1:])\n",
    "# hidden1 = tf.keras.layers.Dense(30,activation = \"relu\")(input)\n",
    "# hidden2 = tf.keras.layers.Dense(30,activation = \"relu\")(hidden1)\n",
    "# concat = tf.keras.layers.concatenate([input,hidden2])\n",
    "# output = tf.keras.layers.Dense(1)(concat)\n",
    "# model = tf.keras.models.Model(inputs = [input],outputs=[output])\n",
    "\n",
    "#子类API实现\n",
    "# class WideDeepModel(tf.keras.models.Model):\n",
    "#     def __init__(self):\n",
    "#         super(WideDeepModel,self).__init__()\n",
    "#         '''定义模型层次'''\n",
    "#         self.hidden1_layer = tf.keras.layers.Dense(30,activation = \"relu\")\n",
    "#         self.hidden2_layer = tf.keras.layers.Dense(30,activation = \"relu\")\n",
    "#         self.output_layer = tf.keras.layers.Dense(1)\n",
    "#     #python 中实例对象 model（input）就会调用call函数\n",
    "#     def call(self,input):\n",
    "#         '''定义模型的正向计算'''\n",
    "#         hidden1 = self.hidden1_layer(input)\n",
    "#         hidden2 = self.hidden2_layer(hidden1)\n",
    "#         concat = tf.keras.layers.concatenate([input,hidden2])\n",
    "#         output = self.output_layer(concat)\n",
    "#         return output\n",
    "# model = WideDeepModel() # 或者 model = tf.keras.models.Sequential([WideDeepModel(),])\n",
    "# model.build(input_shape = (None,8))\n",
    "\n",
    "#多输入\n",
    "input_wide = tf.keras.layers.Input(shape=[5])\n",
    "input_deep = tf.keras.layers.Input(shape=[6])\n",
    "hidden1 = tf.keras.layers.Dense(30,activation = \"relu\")(input_deep)\n",
    "hidden2 = tf.keras.layers.Dense(30,activation = \"relu\")(hidden1)\n",
    "concat = tf.keras.layers.concatenate([input_wide,hidden2])\n",
    "output = tf.keras.layers.Dense(1)(concat)\n",
    "model = tf.keras.models.Model(inputs = [input_wide,input_deep],outputs=[output])\n",
    "\n",
    "\n",
    "\n",
    "model.summary()\n",
    "model.compile(loss=\"mean_squared_error\",optimizer=\"Adam\") #sgd随机梯度下降，mean_squared_error均方误差\n",
    "callbacks = [tf.keras.callbacks.EarlyStopping(patience= 5,min_delta = 1e-3)]"
   ]
  },
  {
   "cell_type": "code",
   "execution_count": 21,
   "metadata": {},
   "outputs": [
    {
     "name": "stdout",
     "output_type": "stream",
     "text": [
      "Train on 11610 samples, validate on 3870 samples\n",
      "Epoch 1/100\n",
      "11610/11610 [==============================] - 2s 135us/sample - loss: 1.4668 - val_loss: 0.7077\n",
      "Epoch 2/100\n",
      "11610/11610 [==============================] - 1s 88us/sample - loss: 0.5533 - val_loss: 0.4613\n",
      "Epoch 3/100\n",
      "11610/11610 [==============================] - 1s 93us/sample - loss: 0.4280 - val_loss: 0.4325\n",
      "Epoch 4/100\n",
      "11610/11610 [==============================] - 1s 93us/sample - loss: 0.4179 - val_loss: 0.4362\n",
      "Epoch 5/100\n",
      "11610/11610 [==============================] - 1s 88us/sample - loss: 0.4011 - val_loss: 0.4055\n",
      "Epoch 6/100\n",
      "11610/11610 [==============================] - 1s 86us/sample - loss: 0.3906 - val_loss: 0.3999\n",
      "Epoch 7/100\n",
      "11610/11610 [==============================] - 1s 88us/sample - loss: 0.3870 - val_loss: 0.3873\n",
      "Epoch 8/100\n",
      "11610/11610 [==============================] - 1s 124us/sample - loss: 0.3692 - val_loss: 0.3876\n",
      "Epoch 9/100\n",
      "11610/11610 [==============================] - 1s 93us/sample - loss: 0.3596 - val_loss: 0.3698\n",
      "Epoch 10/100\n",
      "11610/11610 [==============================] - 1s 94us/sample - loss: 0.3573 - val_loss: 0.3630\n",
      "Epoch 11/100\n",
      "11610/11610 [==============================] - 1s 89us/sample - loss: 0.3581 - val_loss: 0.5666\n",
      "Epoch 12/100\n",
      "11610/11610 [==============================] - 1s 87us/sample - loss: 0.3656 - val_loss: 0.3650\n",
      "Epoch 13/100\n",
      "11610/11610 [==============================] - 1s 91us/sample - loss: 0.3433 - val_loss: 0.3563\n",
      "Epoch 14/100\n",
      "11610/11610 [==============================] - 1s 96us/sample - loss: 0.3511 - val_loss: 0.3613\n",
      "Epoch 15/100\n",
      "11610/11610 [==============================] - 1s 88us/sample - loss: 0.3360 - val_loss: 0.3506\n",
      "Epoch 16/100\n",
      "11610/11610 [==============================] - 1s 87us/sample - loss: 0.3388 - val_loss: 0.3466\n",
      "Epoch 17/100\n",
      "11610/11610 [==============================] - 1s 91us/sample - loss: 0.3444 - val_loss: 0.4179\n",
      "Epoch 18/100\n",
      "11610/11610 [==============================] - 1s 90us/sample - loss: 0.3422 - val_loss: 0.3432\n",
      "Epoch 19/100\n",
      "11610/11610 [==============================] - 1s 92us/sample - loss: 0.3262 - val_loss: 0.3425\n",
      "Epoch 20/100\n",
      "11610/11610 [==============================] - 1s 96us/sample - loss: 0.3330 - val_loss: 0.3380\n",
      "Epoch 21/100\n",
      "11610/11610 [==============================] - 1s 88us/sample - loss: 0.3394 - val_loss: 0.4494\n",
      "Epoch 22/100\n",
      "11610/11610 [==============================] - 1s 90us/sample - loss: 0.3458 - val_loss: 0.3396\n",
      "Epoch 23/100\n",
      "11610/11610 [==============================] - 1s 95us/sample - loss: 0.3289 - val_loss: 0.3409\n",
      "Epoch 24/100\n",
      "11610/11610 [==============================] - 1s 87us/sample - loss: 0.3216 - val_loss: 0.3369\n",
      "Epoch 25/100\n",
      "11610/11610 [==============================] - 1s 94us/sample - loss: 0.3191 - val_loss: 0.3530\n",
      "Epoch 26/100\n",
      "11610/11610 [==============================] - 1s 89us/sample - loss: 0.3190 - val_loss: 0.3358\n",
      "Epoch 27/100\n",
      "11610/11610 [==============================] - 1s 90us/sample - loss: 0.3191 - val_loss: 0.3280\n",
      "Epoch 28/100\n",
      "11610/11610 [==============================] - 1s 90us/sample - loss: 0.3240 - val_loss: 0.3357\n",
      "Epoch 29/100\n",
      "11610/11610 [==============================] - 1s 94us/sample - loss: 0.3299 - val_loss: 0.3340\n",
      "Epoch 30/100\n",
      "11610/11610 [==============================] - 1s 93us/sample - loss: 0.3161 - val_loss: 0.3251\n",
      "Epoch 31/100\n",
      "11610/11610 [==============================] - 1s 92us/sample - loss: 0.3150 - val_loss: 0.3239\n",
      "Epoch 32/100\n",
      "11610/11610 [==============================] - 1s 95us/sample - loss: 0.3159 - val_loss: 0.3587\n",
      "Epoch 33/100\n",
      "11610/11610 [==============================] - 1s 90us/sample - loss: 0.3171 - val_loss: 0.3225\n",
      "Epoch 34/100\n",
      "11610/11610 [==============================] - 1s 92us/sample - loss: 0.3208 - val_loss: 0.3213\n",
      "Epoch 35/100\n",
      "11610/11610 [==============================] - 1s 91us/sample - loss: 0.3144 - val_loss: 0.3278\n",
      "Epoch 36/100\n",
      "11610/11610 [==============================] - 1s 90us/sample - loss: 0.3114 - val_loss: 0.3300\n",
      "Epoch 37/100\n",
      "11610/11610 [==============================] - 1s 93us/sample - loss: 0.3084 - val_loss: 0.3230\n",
      "Epoch 38/100\n",
      "11610/11610 [==============================] - 1s 91us/sample - loss: 0.3050 - val_loss: 0.3195\n",
      "Epoch 39/100\n",
      "11610/11610 [==============================] - 1s 93us/sample - loss: 0.3049 - val_loss: 0.3467\n",
      "Epoch 40/100\n",
      "11610/11610 [==============================] - 1s 96us/sample - loss: 0.3075 - val_loss: 0.3923\n",
      "Epoch 41/100\n",
      "11610/11610 [==============================] - 1s 95us/sample - loss: 0.3111 - val_loss: 0.3182\n",
      "Epoch 42/100\n",
      "11610/11610 [==============================] - 1s 96us/sample - loss: 0.3081 - val_loss: 0.3259\n",
      "Epoch 43/100\n",
      "11610/11610 [==============================] - 1s 94us/sample - loss: 0.3103 - val_loss: 0.3246\n",
      "Epoch 44/100\n",
      "11610/11610 [==============================] - 1s 93us/sample - loss: 0.3031 - val_loss: 0.3173\n",
      "Epoch 45/100\n",
      "11610/11610 [==============================] - 1s 94us/sample - loss: 0.3044 - val_loss: 0.3174\n",
      "Epoch 46/100\n",
      "11610/11610 [==============================] - 1s 95us/sample - loss: 0.3019 - val_loss: 0.3242\n"
     ]
    }
   ],
   "source": [
    "#多输入\n",
    "x_train_scaled_wide = x_train_scaled[:,0:5]\n",
    "x_train_scaled_deep = x_train_scaled[:,2:]\n",
    "x_valid_scaled_wide = x_valid_scaled[:,0:5]\n",
    "x_valid_scaled_deep = x_valid_scaled[:,2:]\n",
    "x_test_scaled_wide = x_test_scaled[:,0:5]\n",
    "x_test_scaled_deep = x_test_scaled[:,2:]\n",
    "history = model.fit([x_train_scaled_wide,x_train_scaled_deep],\n",
    "                    y_train,\n",
    "                    validation_data=([x_valid_scaled_wide,x_valid_scaled_deep],y_valid),\n",
    "                    epochs=100,\n",
    "                    callbacks=callbacks)\n",
    "\n",
    "# history = model.fit(x_train_scaled,y_train,validation_data=(x_valid_scaled,y_valid),epochs=100,callbacks=callbacks)"
   ]
  },
  {
   "cell_type": "code",
   "execution_count": 11,
   "metadata": {},
   "outputs": [
    {
     "data": {
      "image/png": "[encoded data removed]",
      "text/plain": [
       "<Figure size 576x360 with 1 Axes>"
      ]
     },
     "metadata": {
      "needs_background": "light"
     },
     "output_type": "display_data"
    }
   ],
   "source": [
    "def plot_learning_curves(history,img_title):\n",
    "    pd.DataFrame(history.history).plot(figsize=(8,5))\n",
    "    plt.grid(True)\n",
    "    plt.gca().set_ylim(0,1)\n",
    "    plt.show()\n",
    "plot_learning_curves(history)"
   ]
  },
  {
   "cell_type": "code",
   "execution_count": 12,
   "metadata": {},
   "outputs": [
    {
     "name": "stdout",
     "output_type": "stream",
     "text": [
      "5160/5160 [==============================] - 0s 45us/sample - loss: 0.3092\n"
     ]
    },
    {
     "data": {
      "text/plain": [
       "0.30924481804980786"
      ]
     },
     "execution_count": 12,
     "metadata": {},
     "output_type": "execute_result"
    }
   ],
   "source": [
    "model.evaluate(x_test_scaled,y_test)"
   ]
  },
  {
   "cell_type": "code",
   "execution_count": 17,
   "metadata": {},
   "outputs": [
    {
     "data": {
      "image/png": "[encoded data removed]",
      "text/plain": [
       "<Figure size 576x360 with 1 Axes>"
      ]
     },
     "metadata": {
      "needs_background": "light"
     },
     "output_type": "display_data"
    }
   ],
   "source": [
    "plot_learning_curves(history)"
   ]
  },
  {
   "cell_type": "code",
   "execution_count": 18,
   "metadata": {},
   "outputs": [
    {
     "name": "stdout",
     "output_type": "stream",
     "text": [
      "5160/5160 [==============================] - 0s 39us/sample - loss: 0.3166\n"
     ]
    },
    {
     "data": {
      "text/plain": [
       "0.316556271009667"
      ]
     },
     "execution_count": 18,
     "metadata": {},
     "output_type": "execute_result"
    }
   ],
   "source": [
    "model.evaluate(x_test_scaled,y_test)"
   ]
  },
  {
   "cell_type": "code",
   "execution_count": 22,
   "metadata": {},
   "outputs": [
    {
     "data": {
      "image/png": "[encoded data removed]",
      "text/plain": [
       "<Figure size 576x360 with 1 Axes>"
      ]
     },
     "metadata": {
      "needs_background": "light"
     },
     "output_type": "display_data"
    },
    {
     "name": "stdout",
     "output_type": "stream",
     "text": [
      "5160/5160 [==============================] - 0s 44us/sample - loss: 0.3408\n"
     ]
    },
    {
     "data": {
      "text/plain": [
       "0.34080459859020024"
      ]
     },
     "execution_count": 22,
     "metadata": {},
     "output_type": "execute_result"
    }
   ],
   "source": [
    "def plot_learning_curves_with_title(history,img_title):\n",
    "    pd.DataFrame(history.history).plot(figsize=(8,5))\n",
    "    plt.grid(True)\n",
    "    plt.gca().set_ylim(0,1)\n",
    "    from matplotlib.font_manager import FontProperties\n",
    "    font_set= FontProperties(fname=r\"c:\\windows\\fonts\\simsun.ttc\",size=12)\n",
    "    plt.title(img_title,fontProperties = font_set)\n",
    "    plt.show()\n",
    "plot_learning_curves_with_title(history,\"多输入的wide&deep模型\")\n",
    "model.evaluate([x_test_scaled_wide,x_test_scaled_deep],y_test)"
   ]
  },
  {
   "cell_type": "code",
   "execution_count": null,
   "metadata": {},
   "outputs": [],
   "source": []
  }
 ],
 "metadata": {
  "kernelspec": {
   "display_name": "Python 3",
   "language": "python",
   "name": "python3"
  },
  "language_info": {
   "codemirror_mode": {
    "name": "ipython",
    "version": 3
   },
   "file_extension": ".py",
   "mimetype": "text/x-python",
   "name": "python",
   "nbconvert_exporter": "python",
   "pygments_lexer": "ipython3",
   "version": "3.7.3"
  }
 },
 "nbformat": 4,
 "nbformat_minor": 2
}
