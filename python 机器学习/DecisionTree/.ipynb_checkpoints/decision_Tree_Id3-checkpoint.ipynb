{
 "cells": [
  {
   "cell_type": "code",
   "execution_count": 1,
   "metadata": {},
   "outputs": [],
   "source": [
    "from matplotlib.font_manager import FontProperties\n",
    "import matplotlib.pyplot as plt\n",
    "from math import log\n",
    "import operator\n",
    "import numpy as np\n",
    "%matplotlib inline"
   ]
  },
  {
   "cell_type": "code",
   "execution_count": 85,
   "metadata": {},
   "outputs": [],
   "source": [
    "def createDataSet():\n",
    "    '''\n",
    "    生成测试数据,\n",
    "    年龄：青少年-0 中年-1，老年-2\n",
    "    收入：低-0 中-1 高-2，\n",
    "    是否单身：否-0 是 -1\n",
    "    信用等级：一般- 0 良好- 1\n",
    "    是否购买：否-0 是-1\n",
    "    '''\n",
    "    dataSet = np.array(\n",
    "              [[0, 2, 0, 0, 0],         #数据集\n",
    "               [0, 2, 0, 1, 0],\n",
    "               [1, 2, 0, 0, 1],\n",
    "               [2, 1, 0, 0, 1],\n",
    "               [2, 0, 1, 0, 1],\n",
    "               [2, 0, 1, 1, 0],\n",
    "               [1, 0, 1, 1, 1],\n",
    "               [0, 1, 0, 0, 0],\n",
    "               [0, 0, 1, 0, 1],\n",
    "               [2, 1, 1, 0, 1],\n",
    "               [0, 1, 1, 1, 1],\n",
    "               [1, 1, 0, 1, 1],\n",
    "               [1, 2, 1, 0, 1],\n",
    "               [2, 1, 0, 1, 0]])\n",
    "    \n",
    "    labels = np.array(['年龄', '收入层次', '是否单身', '信用等级'])           #特征\n",
    "    return dataSet, labels                #返回数据集和特征"
   ]
  },
  {
   "cell_type": "code",
   "execution_count": 63,
   "metadata": {},
   "outputs": [],
   "source": [
    "from collections import Counter\n",
    "def calcAllInfoEnt(dataSet):\n",
    "    '''\n",
    "    计算整体的信息熵\n",
    "    '''\n",
    "    #数据集的数量\n",
    "    dataNum = dataSet.shape[0] \n",
    "    #出现次数的字典\n",
    "    labelCounts = Counter(dataSet[:,-1])\n",
    "    allInfoEnt = 0.0      #整体信息熵                   \n",
    "    for key in labelCounts:\n",
    "        #标签概率                           \n",
    "        prob = float(labelCounts[key]) / dataNum\n",
    "        #公式计算 -p(xi)log2(p(xi))求和，xi为类别\n",
    "        allInfoEnt -= prob * log(prob, 2)           \n",
    "    return  allInfoEnt                               #返回整体信息熵"
   ]
  },
  {
   "cell_type": "code",
   "execution_count": 64,
   "metadata": {},
   "outputs": [],
   "source": [
    "def splitDataSet(dataSet, axis, value):\n",
    "    \"\"\"\n",
    "    按照给定特征划分数据集\n",
    "    :params dataSet:待划分的数据集\n",
    "            axis:划分数据集的特征\n",
    "            value:需要返回的特征的值\n",
    "    :return retDataSet:结果数据集\n",
    "    \"\"\"   \n",
    "    resDataSet = dataSet[(dataSet[:,axis]==value)]\n",
    "    return np.delete(resDataSet,axis,1) #去掉划分的特征"
   ]
  },
  {
   "cell_type": "code",
   "execution_count": 89,
   "metadata": {},
   "outputs": [],
   "source": [
    "def chooseBestFeatureToSplit(dataSet):\n",
    "    \"\"\"\n",
    "    选择最优特征\n",
    "    :params dataSet:数据集\n",
    "    :returns bestFeature:信息增益最大的(最优)特征的索引值\n",
    "    \"\"\"\n",
    "    #特征数\n",
    "    CharctNum =dataSet.shape[1] -  1             \n",
    "    allInfoEnt = calcAllInfoEnt(dataSet)              \n",
    "    bestInfoGain,bestFeature = 0.0, -1                            \n",
    "    for i in range(CharctNum):                        \n",
    "        unqFeatList = set([item[i] for item in dataSet]) #获取dataSet的第i个特征的不同的几种值\n",
    "        charcConditionEnt = 0.0            #计算特征条件熵                            \n",
    "        for value in unqFeatList:\n",
    "            #取出第i个等于value的样本构成的子集                      \n",
    "            subDataSet = splitDataSet(dataSet, i, value)         \n",
    "            prob = subDataSet.shape[0] / float(dataSet.shape[0])           #计算子集的概率\n",
    "            charcConditionEnt += prob * calcAllInfoEnt(subDataSet)     #根据公式计算经验条件熵\n",
    "        #计算信息增益 \n",
    "        infoGain = allInfoEnt - charcConditionEnt                   \n",
    "        #print(\"第{}个特征的增益为{:.3f}\".format(i, infoGain))            #打印每个特征的信息增益\n",
    "        if infoGain > bestInfoGain:                             #计算信息增益\n",
    "            bestInfoGain = infoGain                             #更新信息增益，找到最大的信息增益\n",
    "            bestFeature = i                                     #记录信息增益最大的特征的索引值\n",
    "    return bestFeature"
   ]
  },
  {
   "cell_type": "code",
   "execution_count": 88,
   "metadata": {},
   "outputs": [],
   "source": [
    "\"\"\"\n",
    "Parameters:\n",
    "    classList - 类标签列表\n",
    "Returns:\n",
    "    sortedClassCount[0][0] - 出现次数最多的元素(类标签)\n",
    "\"\"\"\n",
    "def majorityCnt(classList):\n",
    "    classCount = Counter(classList)\n",
    "    key = operator.itemgetter(1)\n",
    "    sortedClassCount = sorted(classCount.items(), key = key, reverse = True) #根据字典的值降序排序\n",
    "    return sortedClassCount[0][0]                              #返回classList中出现次数最多的元素\n",
    "\"\"\"\n",
    "Parameters:\n",
    "    dataSet - 训练数据集\n",
    "    labels - 特征属性标签\n",
    "    featLabels - 存储选择的最优特征标签\n",
    "Returns:\n",
    "    myTree - 决策树\n",
    "\"\"\"\n",
    "def createTree(dataSet, labels, featLabels):\n",
    "    classList = dataSet[:,-1]           #取分类标签(是否购买:1 or 0)\n",
    "    if len(set(classList)) == 1:            #如果类别完全相同则停止继续划分\n",
    "        return classList[0]\n",
    "    if dataSet.shape[1] == 1 or labels.shape[0] == 0:   #遍历完所有特征时返回出现次数最多的类标签\n",
    "        return majorityCnt(classList)\n",
    "    bestFeat = chooseBestFeatureToSplit(dataSet)                #选择最优特征\n",
    "    bestFeatLabel = labels[bestFeat]                            #最优特征的标签\n",
    "    featLabels.append(bestFeatLabel)\n",
    "    myTree = {bestFeatLabel:{}}                                 #根据最优特征的标签生成树\n",
    "    uniqueVals = set([example[bestFeat] for example in dataSet])#获取dataSet的最优特征的属性取值空间\n",
    "    for value in uniqueVals:                                   #遍历特征值，创建决策树。        \n",
    "        subLabels = np.delete(labels,bestFeat,0)\n",
    "        subDataSet = splitDataSet(dataSet, bestFeat, value)\n",
    "        myTree[bestFeatLabel][value] = createTree(subDataSet, subLabels,featLabels)\n",
    "    return myTree"
   ]
  },
  {
   "cell_type": "code",
   "execution_count": 90,
   "metadata": {},
   "outputs": [
    {
     "name": "stdout",
     "output_type": "stream",
     "text": [
      "{'年龄': {0: {'是否单身': {0: 0, 1: 1}}, 1: 1, 2: {'信用等级': {0: 1, 1: 0}}}}\n"
     ]
    }
   ],
   "source": [
    "if __name__ == '__main__':\n",
    "    dataSet, labels = createDataSet()\n",
    "    featLabels = []\n",
    "    myTree = createTree(dataSet, labels, featLabels)\n",
    "    print(myTree)"
   ]
  },
  {
   "cell_type": "code",
   "execution_count": null,
   "metadata": {},
   "outputs": [],
   "source": []
  }
 ],
 "metadata": {
  "kernelspec": {
   "display_name": "Python 3",
   "language": "python",
   "name": "python3"
  },
  "language_info": {
   "codemirror_mode": {
    "name": "ipython",
    "version": 3
   },
   "file_extension": ".py",
   "mimetype": "text/x-python",
   "name": "python",
   "nbconvert_exporter": "python",
   "pygments_lexer": "ipython3",
   "version": "3.7.3"
  }
 },
 "nbformat": 4,
 "nbformat_minor": 2
}
